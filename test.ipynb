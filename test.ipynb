{
 "cells": [
  {
   "cell_type": "code",
   "execution_count": null,
   "id": "initial_id",
   "metadata": {
    "collapsed": true
   },
   "outputs": [],
   "source": [
    "import torch\n",
    "from Pretrain_MCVAE.Model_MCVGAN import Masked_ConViT_GAN_Generator\n",
    "from PIL import Image\n",
    "from torchvision import transforms\n",
    "from Pretrain_MCVAE.utils.evaluate import show_image\n",
    "\n",
    "device = torch.device('cuda' if torch.cuda.is_available() else 'cpu')\n",
    "generator = Masked_ConViT_GAN_Generator().to(device)\n",
    "model_state = torch.load(\"pretrain_models/best_pretrain_generator.pth\")\n",
    "generator.load_state_dict(model_state)\n",
    "\n",
    "image = Image.open(\"Pretrain_MCVAE/test_images/182339.jpg\")\n",
    "\n",
    "img_size = 112\n",
    "transform = transforms.Compose([\n",
    "    transforms.Resize((img_size, img_size)),  # 调整图像大小\n",
    "    transforms.ToTensor(),\n",
    "    transforms.Normalize(mean=[0.485, 0.456, 0.406], std=[0.229, 0.224, 0.225])\n",
    "])\n",
    "\n",
    "image = transform(image)\n",
    "image = torch.einsum('hwc->chw', image)\n",
    "_, pred, _ = generator(image)\n",
    "reconstruction_image = generator.unpatchify(pred)\n",
    "reconstruction_image = torch.einsum('chw->hwc', reconstruction_image)\n",
    "\n",
    "show_image(reconstruction_image)"
   ]
  }
 ],
 "metadata": {
  "kernelspec": {
   "display_name": "Python 3",
   "language": "python",
   "name": "python3"
  },
  "language_info": {
   "codemirror_mode": {
    "name": "ipython",
    "version": 2
   },
   "file_extension": ".py",
   "mimetype": "text/x-python",
   "name": "python",
   "nbconvert_exporter": "python",
   "pygments_lexer": "ipython2",
   "version": "2.7.6"
  }
 },
 "nbformat": 4,
 "nbformat_minor": 5
}
