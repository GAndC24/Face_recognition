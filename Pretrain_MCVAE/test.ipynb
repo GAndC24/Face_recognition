{
 "cells": [
  {
   "cell_type": "code",
   "id": "initial_id",
   "metadata": {
    "collapsed": true,
    "ExecuteTime": {
     "end_time": "2025-02-06T17:11:29.734590Z",
     "start_time": "2025-02-06T17:11:04.644713Z"
    }
   },
   "source": [
    "from Hyparam_optimizer_MCVGAN import Hyparam_optimizer_MCVGAN\n",
    "import torch\n",
    "from Trainer_MCVGAN import Trainer_MCVGAN\n",
    "from Model_MCVGAN import Masked_ConViT_GAN_Generator, Masked_ConViT_GAN_Discriminator"
   ],
   "outputs": [
    {
     "name": "stderr",
     "output_type": "stream",
     "text": [
      "D:\\Python_projects\\Face_Recognition\\.venv\\Lib\\site-packages\\tqdm\\auto.py:21: TqdmWarning: IProgress not found. Please update jupyter and ipywidgets. See https://ipywidgets.readthedocs.io/en/stable/user_install.html\n",
      "  from .autonotebook import tqdm as notebook_tqdm\n",
      "D:\\Python_projects\\Face_Recognition\\.venv\\Lib\\site-packages\\timm\\models\\layers\\__init__.py:48: FutureWarning: Importing from timm.models.layers is deprecated, please import via timm.layers\n",
      "  warnings.warn(f\"Importing from {__name__} is deprecated, please import via timm.layers\", FutureWarning)\n"
     ]
    }
   ],
   "execution_count": 1
  },
  {
   "metadata": {
    "ExecuteTime": {
     "end_time": "2025-02-06T17:11:29.888925Z",
     "start_time": "2025-02-06T17:11:29.885166Z"
    }
   },
   "cell_type": "code",
   "source": [
    "# 超参数\n",
    "img_size = 128\n",
    "NP = 20\n",
    "G = 10\n",
    "select_ratio = 0.8\n",
    "L = 18\n",
    "Pc = 0.8\n",
    "Pm = 0.05\n",
    "train_mini_epochs = 3"
   ],
   "id": "403047d89115c715",
   "outputs": [],
   "execution_count": 2
  },
  {
   "metadata": {},
   "cell_type": "markdown",
   "source": "# 单点交叉",
   "id": "87b0630e7cb5bb6a"
  },
  {
   "metadata": {},
   "cell_type": "code",
   "outputs": [],
   "execution_count": null,
   "source": [
    "# 初始化 Hyperparameter optimizer\n",
    "Hyparam_optimizer = Hyparam_optimizer_MCVGAN(img_size=img_size, NP=NP, select_ratio=select_ratio, G=G, L=L,\n",
    "                                                 Pc=Pc, Pm=Pm, train_mini_epochs=train_mini_epochs)\n",
    "\n",
    "# 获取 best Hyperparameters\n",
    "Hyparam_best = Hyparam_optimizer.get_best_hyperparameters()"
   ],
   "id": "c9423d88fe358edc"
  }
 ],
 "metadata": {
  "kernelspec": {
   "display_name": "Python 3",
   "language": "python",
   "name": "python3"
  },
  "language_info": {
   "codemirror_mode": {
    "name": "ipython",
    "version": 2
   },
   "file_extension": ".py",
   "mimetype": "text/x-python",
   "name": "python",
   "nbconvert_exporter": "python",
   "pygments_lexer": "ipython2",
   "version": "2.7.6"
  }
 },
 "nbformat": 4,
 "nbformat_minor": 5
}
