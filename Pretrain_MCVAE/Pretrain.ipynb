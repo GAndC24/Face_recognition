{
 "cells": [
  {
   "cell_type": "code",
   "id": "initial_id",
   "metadata": {
    "collapsed": true,
    "ExecuteTime": {
     "end_time": "2025-01-23T16:28:29.396690Z",
     "start_time": "2025-01-23T16:28:25.735453Z"
    }
   },
   "source": [
    "from HP_optimizer_MCVGAN import HP_optimizer_MCVGAN\n",
    "import torch\n",
    "from Trainer_MCVGAN import Trainer_MCVGAN\n",
    "from Model_MCVGAN import Masked_ConViT_GAN_Generator, Masked_ConViT_GAN_Discriminator\n",
    "\n",
    "# 超参数\n",
    "img_size = 128\n",
    "NP = 60\n",
    "G = 20\n",
    "select_ratio = 0.8\n",
    "L = 18\n",
    "Pc = 0.8\n",
    "Pm = 0.05\n",
    "train_mini_epochs = 20\n",
    "epochs = 1000"
   ],
   "outputs": [
    {
     "name": "stderr",
     "output_type": "stream",
     "text": [
      "D:\\Python_projects\\Face_Recognition\\.venv\\Lib\\site-packages\\tqdm\\auto.py:21: TqdmWarning: IProgress not found. Please update jupyter and ipywidgets. See https://ipywidgets.readthedocs.io/en/stable/user_install.html\n",
      "  from .autonotebook import tqdm as notebook_tqdm\n",
      "D:\\Python_projects\\Face_Recognition\\.venv\\Lib\\site-packages\\timm\\models\\layers\\__init__.py:48: FutureWarning: Importing from timm.models.layers is deprecated, please import via timm.layers\n",
      "  warnings.warn(f\"Importing from {__name__} is deprecated, please import via timm.layers\", FutureWarning)\n"
     ]
    }
   ],
   "execution_count": 1
  },
  {
   "metadata": {},
   "cell_type": "code",
   "outputs": [],
   "execution_count": null,
   "source": [
    "# 初始化 Hyperparameter optimizer\n",
    "HP_optimizer = HP_optimizer_MCVGAN(img_size=img_size, NP=NP, select_ratio=select_ratio, G=G, L=L,\n",
    "                                       Pc=Pc, Pm=Pm, train_mini_epochs=train_mini_epochs)\n",
    "\n",
    "# 获取 best Hyperparameters\n",
    "HP_best = HP_optimizer.get_best_hyperparameters()"
   ],
   "id": "e7dba4d2b6dfde16"
  },
  {
   "metadata": {},
   "cell_type": "code",
   "outputs": [],
   "execution_count": null,
   "source": [
    "lr = HP_best[0]\n",
    "warmup_proportion = HP_best[1]\n",
    "weight_decay = HP_best[2]\n",
    "batch_size = HP_best[3]\n",
    "embed_dim = HP_best[4]\n",
    "depth = HP_best[5]\n",
    "num_heads = HP_best[6]\n",
    "mlp_ratio = HP_best[7]\n",
    "drop_rate = HP_best[8]\n",
    "attn_drop_rate = HP_best[9]\n",
    "drop_path_rate = HP_best[10]\n",
    "local_up_to_layer = HP_best[11]\n",
    "locality_strength = HP_best[12]\n",
    "decoder_embed_dim = HP_best[13]\n",
    "decoder_depth = HP_best[14]\n",
    "decoder_num_heads = HP_best[15]\n",
    "filter_size = HP_best[16]\n",
    "num_filters = HP_best[17]\n",
    "\n",
    "device = torch.device('cuda' if torch.cuda.is_available() else 'cpu')  # 使用 cuda\n",
    "\n",
    "# 初始化 generator\n",
    "generator = Masked_ConViT_GAN_Generator(\n",
    "    img_size=img_size,\n",
    "    embed_dim=embed_dim,\n",
    "    depth=depth,\n",
    "    num_heads=num_heads,\n",
    "    mlp_ratio=mlp_ratio,\n",
    "    drop_rate=drop_rate,\n",
    "    attn_drop_rate=attn_drop_rate,\n",
    "    drop_path_rate=drop_path_rate,\n",
    "    local_up_to_layer=local_up_to_layer,\n",
    "    locality_strength=locality_strength,\n",
    "    decoder_embed_dim=decoder_embed_dim,\n",
    "    decoder_depth=decoder_depth,\n",
    "    decoder_num_heads=decoder_num_heads\n",
    ").to(device)\n",
    "\n",
    "# 初始化 discriminator\n",
    "discriminator = Masked_ConViT_GAN_Discriminator(\n",
    "    img_size=img_size,\n",
    "    filter_size=filter_size,\n",
    "    num_filters=num_filters\n",
    ").to(device)\n",
    "\n",
    "# 初始化 trainer\n",
    "trainer = Trainer_MCVGAN(\n",
    "    generator=generator,\n",
    "    discriminator=discriminator,\n",
    "    lr=lr,\n",
    "    warmup_proportion=warmup_proportion,\n",
    "    weight_decay=weight_decay,\n",
    "    batch_size=batch_size,\n",
    "    img_size=img_size,\n",
    "    epochs=epochs\n",
    ")\n",
    "\n",
    "trainer.train()\n",
    "trainer.save_generator()"
   ],
   "id": "a124bcf3b19fea46"
  }
 ],
 "metadata": {
  "kernelspec": {
   "display_name": "Python 3",
   "language": "python",
   "name": "python3"
  },
  "language_info": {
   "codemirror_mode": {
    "name": "ipython",
    "version": 2
   },
   "file_extension": ".py",
   "mimetype": "text/x-python",
   "name": "python",
   "nbconvert_exporter": "python",
   "pygments_lexer": "ipython2",
   "version": "2.7.6"
  }
 },
 "nbformat": 4,
 "nbformat_minor": 5
}
