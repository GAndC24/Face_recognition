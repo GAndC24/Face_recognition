{
 "cells": [
  {
   "cell_type": "code",
   "execution_count": null,
   "id": "initial_id",
   "metadata": {
    "collapsed": true
   },
   "outputs": [],
   "source": [
    "from Hyparam_optimizer_MCV import Hyparam_optimizer_MCV\n",
    "import torch\n",
    "from Trainer_MCV import Trainer_MCV\n",
    "from Model_MCV import Masked_ConViT\n",
    "\n",
    "# 超参数\n",
    "img_size = 128\n",
    "NP = 60\n",
    "G = 20\n",
    "select_ratio = 0.8\n",
    "L = 18\n",
    "Pc = 0.8\n",
    "Pm = 0.05\n",
    "train_mini_epochs = 1\n",
    "epochs = 1000"
   ]
  },
  {
   "metadata": {},
   "cell_type": "code",
   "outputs": [],
   "execution_count": null,
   "source": [
    "# 初始化 Hyperparameter optimizer\n",
    "Hyparam_optimizer = Hyparam_optimizer_MCV(img_size=img_size, NP=NP, select_ratio=select_ratio, G=G, L=L,\n",
    "                                       Pc=Pc, Pm=Pm, train_mini_epochs=train_mini_epochs)\n",
    "\n",
    "# 获取 best Hyperparameters\n",
    "Hyparam_best = Hyparam_optimizer.get_best_hyperparameters()"
   ],
   "id": "2652694a2c47e4fb"
  },
  {
   "metadata": {},
   "cell_type": "code",
   "outputs": [],
   "execution_count": null,
   "source": [
    "lr = Hyparam_best[0]\n",
    "warmup_proportion = Hyparam_best[1]\n",
    "weight_decay = Hyparam_best[2]\n",
    "batch_size = Hyparam_best[3]\n",
    "hidden_dim = Hyparam_best[4]\n",
    "\n",
    "device = torch.device('cuda' if torch.cuda.is_available() else 'cpu')  # 使用 cuda\n",
    "\n",
    "# 初始化 Masked_ConViT\n",
    "model = Masked_ConViT(hidden_dim=hidden_dim, pretrained_MCVAE_path=\"Pretrain_MCVAE/pretrain_models/best_pretrain_MCVAE.pth\").to(device)\n",
    "\n",
    "# 初始化 Trainer\n",
    "trainer = Trainer_MCV(model=model, lr=lr, warmup_proportion=warmup_proportion, weight_decay=weight_decay, batch_size=batch_size,    img_size=img_size, epochs=epochs)\n",
    "\n",
    "# 训练\n",
    "trainer.train()\n",
    "trainer.save_model()"
   ],
   "id": "843447c15adca4f0"
  }
 ],
 "metadata": {
  "kernelspec": {
   "display_name": "Python 3",
   "language": "python",
   "name": "python3"
  },
  "language_info": {
   "codemirror_mode": {
    "name": "ipython",
    "version": 2
   },
   "file_extension": ".py",
   "mimetype": "text/x-python",
   "name": "python",
   "nbconvert_exporter": "python",
   "pygments_lexer": "ipython2",
   "version": "2.7.6"
  }
 },
 "nbformat": 4,
 "nbformat_minor": 5
}
